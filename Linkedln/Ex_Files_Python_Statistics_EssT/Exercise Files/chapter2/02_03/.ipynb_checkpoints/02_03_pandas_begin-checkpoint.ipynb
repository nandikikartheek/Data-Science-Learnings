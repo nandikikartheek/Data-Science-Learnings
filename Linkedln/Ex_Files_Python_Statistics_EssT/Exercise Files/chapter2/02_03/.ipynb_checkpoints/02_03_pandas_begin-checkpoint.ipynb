{
 "cells": [
  {
   "cell_type": "markdown",
   "metadata": {},
   "source": [
    "## Python statistics essential training - 02_03_pandas"
   ]
  },
  {
   "cell_type": "markdown",
   "metadata": {},
   "source": [
    "Standard imports"
   ]
  },
  {
   "cell_type": "code",
   "execution_count": 1,
   "metadata": {},
   "outputs": [],
   "source": [
    "import numpy as np\n",
    "import pandas as pd\n",
    "\n",
    "import matplotlib\n",
    "import matplotlib.pyplot as pp\n",
    "\n",
    "%matplotlib inline"
   ]
  },
  {
   "cell_type": "code",
   "execution_count": 2,
   "metadata": {},
   "outputs": [],
   "source": [
    "planets =pd.read_csv('Planets.csv')"
   ]
  },
  {
   "cell_type": "code",
   "execution_count": 3,
   "metadata": {},
   "outputs": [
    {
     "data": {
      "text/html": [
       "<div>\n",
       "<style scoped>\n",
       "    .dataframe tbody tr th:only-of-type {\n",
       "        vertical-align: middle;\n",
       "    }\n",
       "\n",
       "    .dataframe tbody tr th {\n",
       "        vertical-align: top;\n",
       "    }\n",
       "\n",
       "    .dataframe thead th {\n",
       "        text-align: right;\n",
       "    }\n",
       "</style>\n",
       "<table border=\"1\" class=\"dataframe\">\n",
       "  <thead>\n",
       "    <tr style=\"text-align: right;\">\n",
       "      <th></th>\n",
       "      <th>Planet</th>\n",
       "      <th>Mass</th>\n",
       "      <th>Diameter</th>\n",
       "      <th>DayLength</th>\n",
       "      <th>SunDistance</th>\n",
       "      <th>OrbitPeriod</th>\n",
       "      <th>OrbitVelocity</th>\n",
       "      <th>MeanTemperature</th>\n",
       "      <th>SurfacePressure</th>\n",
       "      <th>Moons</th>\n",
       "      <th>Rings</th>\n",
       "      <th>MagneticField</th>\n",
       "      <th>FirstVisited</th>\n",
       "      <th>FirstMission</th>\n",
       "    </tr>\n",
       "  </thead>\n",
       "  <tbody>\n",
       "    <tr>\n",
       "      <th>0</th>\n",
       "      <td>MERCURY</td>\n",
       "      <td>0.330</td>\n",
       "      <td>4879</td>\n",
       "      <td>4222.6</td>\n",
       "      <td>57.9</td>\n",
       "      <td>88</td>\n",
       "      <td>47.4</td>\n",
       "      <td>167</td>\n",
       "      <td>0.00</td>\n",
       "      <td>0</td>\n",
       "      <td>No</td>\n",
       "      <td>Yes</td>\n",
       "      <td>1974-03-29</td>\n",
       "      <td>Mariner 10</td>\n",
       "    </tr>\n",
       "    <tr>\n",
       "      <th>1</th>\n",
       "      <td>VENUS</td>\n",
       "      <td>4.870</td>\n",
       "      <td>12,104</td>\n",
       "      <td>2802.0</td>\n",
       "      <td>108.2</td>\n",
       "      <td>224.7</td>\n",
       "      <td>35.0</td>\n",
       "      <td>464</td>\n",
       "      <td>92.00</td>\n",
       "      <td>0</td>\n",
       "      <td>No</td>\n",
       "      <td>No</td>\n",
       "      <td>1962-08-27</td>\n",
       "      <td>Mariner 2</td>\n",
       "    </tr>\n",
       "    <tr>\n",
       "      <th>2</th>\n",
       "      <td>EARTH</td>\n",
       "      <td>5.970</td>\n",
       "      <td>12,756</td>\n",
       "      <td>24.0</td>\n",
       "      <td>149.6</td>\n",
       "      <td>365.2</td>\n",
       "      <td>29.8</td>\n",
       "      <td>15</td>\n",
       "      <td>1.00</td>\n",
       "      <td>1</td>\n",
       "      <td>No</td>\n",
       "      <td>Yes</td>\n",
       "      <td>NaN</td>\n",
       "      <td>NaN</td>\n",
       "    </tr>\n",
       "    <tr>\n",
       "      <th>3</th>\n",
       "      <td>MOON</td>\n",
       "      <td>0.073</td>\n",
       "      <td>3475</td>\n",
       "      <td>708.7</td>\n",
       "      <td>NaN</td>\n",
       "      <td>27.3</td>\n",
       "      <td>1.0</td>\n",
       "      <td>-20</td>\n",
       "      <td>0.00</td>\n",
       "      <td>0</td>\n",
       "      <td>No</td>\n",
       "      <td>No</td>\n",
       "      <td>1959-09-12</td>\n",
       "      <td>Luna 2</td>\n",
       "    </tr>\n",
       "    <tr>\n",
       "      <th>4</th>\n",
       "      <td>MARS</td>\n",
       "      <td>0.642</td>\n",
       "      <td>6792</td>\n",
       "      <td>24.7</td>\n",
       "      <td>227.9</td>\n",
       "      <td>687</td>\n",
       "      <td>24.1</td>\n",
       "      <td>-65</td>\n",
       "      <td>0.01</td>\n",
       "      <td>2</td>\n",
       "      <td>No</td>\n",
       "      <td>No</td>\n",
       "      <td>1965-07-15</td>\n",
       "      <td>Mariner 4</td>\n",
       "    </tr>\n",
       "  </tbody>\n",
       "</table>\n",
       "</div>"
      ],
      "text/plain": [
       "    Planet   Mass Diameter  DayLength  SunDistance OrbitPeriod  OrbitVelocity  \\\n",
       "0  MERCURY  0.330     4879     4222.6         57.9          88           47.4   \n",
       "1    VENUS  4.870   12,104     2802.0        108.2       224.7           35.0   \n",
       "2    EARTH  5.970   12,756       24.0        149.6       365.2           29.8   \n",
       "3     MOON  0.073     3475      708.7          NaN        27.3            1.0   \n",
       "4     MARS  0.642     6792       24.7        227.9         687           24.1   \n",
       "\n",
       "   MeanTemperature  SurfacePressure  Moons Rings MagneticField FirstVisited  \\\n",
       "0              167             0.00      0    No           Yes   1974-03-29   \n",
       "1              464            92.00      0    No            No   1962-08-27   \n",
       "2               15             1.00      1    No           Yes          NaN   \n",
       "3              -20             0.00      0    No            No   1959-09-12   \n",
       "4              -65             0.01      2    No            No   1965-07-15   \n",
       "\n",
       "  FirstMission  \n",
       "0   Mariner 10  \n",
       "1    Mariner 2  \n",
       "2          NaN  \n",
       "3       Luna 2  \n",
       "4    Mariner 4  "
      ]
     },
     "execution_count": 3,
     "metadata": {},
     "output_type": "execute_result"
    }
   ],
   "source": [
    "planets.head()"
   ]
  },
  {
   "cell_type": "code",
   "execution_count": 4,
   "metadata": {},
   "outputs": [
    {
     "data": {
      "text/html": [
       "<div>\n",
       "<style scoped>\n",
       "    .dataframe tbody tr th:only-of-type {\n",
       "        vertical-align: middle;\n",
       "    }\n",
       "\n",
       "    .dataframe tbody tr th {\n",
       "        vertical-align: top;\n",
       "    }\n",
       "\n",
       "    .dataframe thead th {\n",
       "        text-align: right;\n",
       "    }\n",
       "</style>\n",
       "<table border=\"1\" class=\"dataframe\">\n",
       "  <thead>\n",
       "    <tr style=\"text-align: right;\">\n",
       "      <th></th>\n",
       "      <th>Planet</th>\n",
       "      <th>Mass</th>\n",
       "      <th>Diameter</th>\n",
       "      <th>DayLength</th>\n",
       "    </tr>\n",
       "  </thead>\n",
       "  <tbody>\n",
       "    <tr>\n",
       "      <th>0</th>\n",
       "      <td>MERCURY</td>\n",
       "      <td>0.330</td>\n",
       "      <td>4879</td>\n",
       "      <td>4222.6</td>\n",
       "    </tr>\n",
       "    <tr>\n",
       "      <th>1</th>\n",
       "      <td>VENUS</td>\n",
       "      <td>4.870</td>\n",
       "      <td>12,104</td>\n",
       "      <td>2802.0</td>\n",
       "    </tr>\n",
       "    <tr>\n",
       "      <th>2</th>\n",
       "      <td>EARTH</td>\n",
       "      <td>5.970</td>\n",
       "      <td>12,756</td>\n",
       "      <td>24.0</td>\n",
       "    </tr>\n",
       "    <tr>\n",
       "      <th>3</th>\n",
       "      <td>MOON</td>\n",
       "      <td>0.073</td>\n",
       "      <td>3475</td>\n",
       "      <td>708.7</td>\n",
       "    </tr>\n",
       "    <tr>\n",
       "      <th>4</th>\n",
       "      <td>MARS</td>\n",
       "      <td>0.642</td>\n",
       "      <td>6792</td>\n",
       "      <td>24.7</td>\n",
       "    </tr>\n",
       "  </tbody>\n",
       "</table>\n",
       "</div>"
      ],
      "text/plain": [
       "    Planet   Mass Diameter  DayLength\n",
       "0  MERCURY  0.330     4879     4222.6\n",
       "1    VENUS  4.870   12,104     2802.0\n",
       "2    EARTH  5.970   12,756       24.0\n",
       "3     MOON  0.073     3475      708.7\n",
       "4     MARS  0.642     6792       24.7"
      ]
     },
     "execution_count": 4,
     "metadata": {},
     "output_type": "execute_result"
    }
   ],
   "source": [
    "#making a subset by choosing usecols with indexes of columns \n",
    "planets_subset = pd.read_csv('Planets.csv',usecols=[0,1,2,3])\n",
    "planets_subset.head()"
   ]
  },
  {
   "cell_type": "code",
   "execution_count": 5,
   "metadata": {},
   "outputs": [
    {
     "data": {
      "text/plain": [
       "0       0.3300\n",
       "1       4.8700\n",
       "2       5.9700\n",
       "3       0.0730\n",
       "4       0.6420\n",
       "5    1898.0000\n",
       "6     568.0000\n",
       "7      86.8000\n",
       "8     102.0000\n",
       "9       0.0146\n",
       "Name: Mass, dtype: float64"
      ]
     },
     "execution_count": 5,
     "metadata": {},
     "output_type": "execute_result"
    }
   ],
   "source": [
    "# selecting a column in a dataframe produces data series \n",
    "#planet.mass can also be used \n",
    "planets['Mass']\n"
   ]
  },
  {
   "cell_type": "code",
   "execution_count": 7,
   "metadata": {},
   "outputs": [
    {
     "data": {
      "text/plain": [
       "RangeIndex(start=0, stop=10, step=1)"
      ]
     },
     "execution_count": 7,
     "metadata": {},
     "output_type": "execute_result"
    }
   ],
   "source": [
    "planets.index # produces the index of the dataframe "
   ]
  },
  {
   "cell_type": "code",
   "execution_count": 8,
   "metadata": {},
   "outputs": [],
   "source": [
    "planets.set_index('Planet',inplace=True) # set index sets the index of the dataframe to the mentioned column \n",
    "#Inplace= true make the changes to the original dataframe"
   ]
  },
  {
   "cell_type": "code",
   "execution_count": 9,
   "metadata": {},
   "outputs": [
    {
     "data": {
      "text/html": [
       "<div>\n",
       "<style scoped>\n",
       "    .dataframe tbody tr th:only-of-type {\n",
       "        vertical-align: middle;\n",
       "    }\n",
       "\n",
       "    .dataframe tbody tr th {\n",
       "        vertical-align: top;\n",
       "    }\n",
       "\n",
       "    .dataframe thead th {\n",
       "        text-align: right;\n",
       "    }\n",
       "</style>\n",
       "<table border=\"1\" class=\"dataframe\">\n",
       "  <thead>\n",
       "    <tr style=\"text-align: right;\">\n",
       "      <th></th>\n",
       "      <th>Mass</th>\n",
       "      <th>Diameter</th>\n",
       "      <th>DayLength</th>\n",
       "      <th>SunDistance</th>\n",
       "      <th>OrbitPeriod</th>\n",
       "      <th>OrbitVelocity</th>\n",
       "      <th>MeanTemperature</th>\n",
       "      <th>SurfacePressure</th>\n",
       "      <th>Moons</th>\n",
       "      <th>Rings</th>\n",
       "      <th>MagneticField</th>\n",
       "      <th>FirstVisited</th>\n",
       "      <th>FirstMission</th>\n",
       "    </tr>\n",
       "    <tr>\n",
       "      <th>Planet</th>\n",
       "      <th></th>\n",
       "      <th></th>\n",
       "      <th></th>\n",
       "      <th></th>\n",
       "      <th></th>\n",
       "      <th></th>\n",
       "      <th></th>\n",
       "      <th></th>\n",
       "      <th></th>\n",
       "      <th></th>\n",
       "      <th></th>\n",
       "      <th></th>\n",
       "      <th></th>\n",
       "    </tr>\n",
       "  </thead>\n",
       "  <tbody>\n",
       "    <tr>\n",
       "      <th>MERCURY</th>\n",
       "      <td>0.330</td>\n",
       "      <td>4879</td>\n",
       "      <td>4222.6</td>\n",
       "      <td>57.9</td>\n",
       "      <td>88</td>\n",
       "      <td>47.4</td>\n",
       "      <td>167</td>\n",
       "      <td>0.00</td>\n",
       "      <td>0</td>\n",
       "      <td>No</td>\n",
       "      <td>Yes</td>\n",
       "      <td>1974-03-29</td>\n",
       "      <td>Mariner 10</td>\n",
       "    </tr>\n",
       "    <tr>\n",
       "      <th>VENUS</th>\n",
       "      <td>4.870</td>\n",
       "      <td>12,104</td>\n",
       "      <td>2802.0</td>\n",
       "      <td>108.2</td>\n",
       "      <td>224.7</td>\n",
       "      <td>35.0</td>\n",
       "      <td>464</td>\n",
       "      <td>92.00</td>\n",
       "      <td>0</td>\n",
       "      <td>No</td>\n",
       "      <td>No</td>\n",
       "      <td>1962-08-27</td>\n",
       "      <td>Mariner 2</td>\n",
       "    </tr>\n",
       "    <tr>\n",
       "      <th>EARTH</th>\n",
       "      <td>5.970</td>\n",
       "      <td>12,756</td>\n",
       "      <td>24.0</td>\n",
       "      <td>149.6</td>\n",
       "      <td>365.2</td>\n",
       "      <td>29.8</td>\n",
       "      <td>15</td>\n",
       "      <td>1.00</td>\n",
       "      <td>1</td>\n",
       "      <td>No</td>\n",
       "      <td>Yes</td>\n",
       "      <td>NaN</td>\n",
       "      <td>NaN</td>\n",
       "    </tr>\n",
       "    <tr>\n",
       "      <th>MOON</th>\n",
       "      <td>0.073</td>\n",
       "      <td>3475</td>\n",
       "      <td>708.7</td>\n",
       "      <td>NaN</td>\n",
       "      <td>27.3</td>\n",
       "      <td>1.0</td>\n",
       "      <td>-20</td>\n",
       "      <td>0.00</td>\n",
       "      <td>0</td>\n",
       "      <td>No</td>\n",
       "      <td>No</td>\n",
       "      <td>1959-09-12</td>\n",
       "      <td>Luna 2</td>\n",
       "    </tr>\n",
       "    <tr>\n",
       "      <th>MARS</th>\n",
       "      <td>0.642</td>\n",
       "      <td>6792</td>\n",
       "      <td>24.7</td>\n",
       "      <td>227.9</td>\n",
       "      <td>687</td>\n",
       "      <td>24.1</td>\n",
       "      <td>-65</td>\n",
       "      <td>0.01</td>\n",
       "      <td>2</td>\n",
       "      <td>No</td>\n",
       "      <td>No</td>\n",
       "      <td>1965-07-15</td>\n",
       "      <td>Mariner 4</td>\n",
       "    </tr>\n",
       "  </tbody>\n",
       "</table>\n",
       "</div>"
      ],
      "text/plain": [
       "          Mass Diameter  DayLength  SunDistance OrbitPeriod  OrbitVelocity  \\\n",
       "Planet                                                                       \n",
       "MERCURY  0.330     4879     4222.6         57.9          88           47.4   \n",
       "VENUS    4.870   12,104     2802.0        108.2       224.7           35.0   \n",
       "EARTH    5.970   12,756       24.0        149.6       365.2           29.8   \n",
       "MOON     0.073     3475      708.7          NaN        27.3            1.0   \n",
       "MARS     0.642     6792       24.7        227.9         687           24.1   \n",
       "\n",
       "         MeanTemperature  SurfacePressure  Moons Rings MagneticField  \\\n",
       "Planet                                                                 \n",
       "MERCURY              167             0.00      0    No           Yes   \n",
       "VENUS                464            92.00      0    No            No   \n",
       "EARTH                 15             1.00      1    No           Yes   \n",
       "MOON                 -20             0.00      0    No            No   \n",
       "MARS                 -65             0.01      2    No            No   \n",
       "\n",
       "        FirstVisited FirstMission  \n",
       "Planet                             \n",
       "MERCURY   1974-03-29   Mariner 10  \n",
       "VENUS     1962-08-27    Mariner 2  \n",
       "EARTH            NaN          NaN  \n",
       "MOON      1959-09-12       Luna 2  \n",
       "MARS      1965-07-15    Mariner 4  "
      ]
     },
     "execution_count": 9,
     "metadata": {},
     "output_type": "execute_result"
    }
   ],
   "source": [
    "planets.head()"
   ]
  },
  {
   "cell_type": "code",
   "execution_count": 12,
   "metadata": {},
   "outputs": [
    {
     "data": {
      "text/html": [
       "<div>\n",
       "<style scoped>\n",
       "    .dataframe tbody tr th:only-of-type {\n",
       "        vertical-align: middle;\n",
       "    }\n",
       "\n",
       "    .dataframe tbody tr th {\n",
       "        vertical-align: top;\n",
       "    }\n",
       "\n",
       "    .dataframe thead th {\n",
       "        text-align: right;\n",
       "    }\n",
       "</style>\n",
       "<table border=\"1\" class=\"dataframe\">\n",
       "  <thead>\n",
       "    <tr style=\"text-align: right;\">\n",
       "      <th></th>\n",
       "      <th>Mass</th>\n",
       "      <th>Diameter</th>\n",
       "      <th>DayLength</th>\n",
       "      <th>SunDistance</th>\n",
       "      <th>OrbitPeriod</th>\n",
       "      <th>OrbitVelocity</th>\n",
       "      <th>MeanTemperature</th>\n",
       "      <th>SurfacePressure</th>\n",
       "      <th>Moons</th>\n",
       "      <th>Rings</th>\n",
       "      <th>MagneticField</th>\n",
       "      <th>FirstVisited</th>\n",
       "      <th>FirstMission</th>\n",
       "    </tr>\n",
       "    <tr>\n",
       "      <th>Planet</th>\n",
       "      <th></th>\n",
       "      <th></th>\n",
       "      <th></th>\n",
       "      <th></th>\n",
       "      <th></th>\n",
       "      <th></th>\n",
       "      <th></th>\n",
       "      <th></th>\n",
       "      <th></th>\n",
       "      <th></th>\n",
       "      <th></th>\n",
       "      <th></th>\n",
       "      <th></th>\n",
       "    </tr>\n",
       "  </thead>\n",
       "  <tbody>\n",
       "    <tr>\n",
       "      <th>MERCURY</th>\n",
       "      <td>0.33</td>\n",
       "      <td>4879</td>\n",
       "      <td>4222.6</td>\n",
       "      <td>57.9</td>\n",
       "      <td>88</td>\n",
       "      <td>47.4</td>\n",
       "      <td>167</td>\n",
       "      <td>0.0</td>\n",
       "      <td>0</td>\n",
       "      <td>No</td>\n",
       "      <td>Yes</td>\n",
       "      <td>1974-03-29</td>\n",
       "      <td>Mariner 10</td>\n",
       "    </tr>\n",
       "    <tr>\n",
       "      <th>VENUS</th>\n",
       "      <td>4.87</td>\n",
       "      <td>12,104</td>\n",
       "      <td>2802.0</td>\n",
       "      <td>108.2</td>\n",
       "      <td>224.7</td>\n",
       "      <td>35.0</td>\n",
       "      <td>464</td>\n",
       "      <td>92.0</td>\n",
       "      <td>0</td>\n",
       "      <td>No</td>\n",
       "      <td>No</td>\n",
       "      <td>1962-08-27</td>\n",
       "      <td>Mariner 2</td>\n",
       "    </tr>\n",
       "    <tr>\n",
       "      <th>EARTH</th>\n",
       "      <td>5.97</td>\n",
       "      <td>12,756</td>\n",
       "      <td>24.0</td>\n",
       "      <td>149.6</td>\n",
       "      <td>365.2</td>\n",
       "      <td>29.8</td>\n",
       "      <td>15</td>\n",
       "      <td>1.0</td>\n",
       "      <td>1</td>\n",
       "      <td>No</td>\n",
       "      <td>Yes</td>\n",
       "      <td>NaN</td>\n",
       "      <td>NaN</td>\n",
       "    </tr>\n",
       "  </tbody>\n",
       "</table>\n",
       "</div>"
      ],
      "text/plain": [
       "         Mass Diameter  DayLength  SunDistance OrbitPeriod  OrbitVelocity  \\\n",
       "Planet                                                                      \n",
       "MERCURY  0.33     4879     4222.6         57.9          88           47.4   \n",
       "VENUS    4.87   12,104     2802.0        108.2       224.7           35.0   \n",
       "EARTH    5.97   12,756       24.0        149.6       365.2           29.8   \n",
       "\n",
       "         MeanTemperature  SurfacePressure  Moons Rings MagneticField  \\\n",
       "Planet                                                                 \n",
       "MERCURY              167              0.0      0    No           Yes   \n",
       "VENUS                464             92.0      0    No            No   \n",
       "EARTH                 15              1.0      1    No           Yes   \n",
       "\n",
       "        FirstVisited FirstMission  \n",
       "Planet                             \n",
       "MERCURY   1974-03-29   Mariner 10  \n",
       "VENUS     1962-08-27    Mariner 2  \n",
       "EARTH            NaN          NaN  "
      ]
     },
     "execution_count": 12,
     "metadata": {},
     "output_type": "execute_result"
    }
   ],
   "source": [
    "planets.loc['MERCURY':'EARTH'] # Slicing can be done use loc keyword on the dataframe accessing the index names \n",
    "# for Accessing the index columns use keyword Iloc\n",
    "#"
   ]
  },
  {
   "cell_type": "code",
   "execution_count": 15,
   "metadata": {},
   "outputs": [
    {
     "data": {
      "text/plain": [
       "'1974-03-29'"
      ]
     },
     "execution_count": 15,
     "metadata": {},
     "output_type": "execute_result"
    }
   ],
   "source": [
    "planets.FirstVisited['MERCURY']"
   ]
  },
  {
   "cell_type": "code",
   "execution_count": 16,
   "metadata": {},
   "outputs": [
    {
     "data": {
      "text/plain": [
       "'1974-03-29'"
      ]
     },
     "execution_count": 16,
     "metadata": {},
     "output_type": "execute_result"
    }
   ],
   "source": [
    "planets.loc['MERCURY','FirstVisited']"
   ]
  },
  {
   "cell_type": "code",
   "execution_count": 17,
   "metadata": {},
   "outputs": [
    {
     "data": {
      "text/plain": [
       "'1974-03-29'"
      ]
     },
     "execution_count": 17,
     "metadata": {},
     "output_type": "execute_result"
    }
   ],
   "source": [
    "planets.loc['MERCURY'].FirstVisited"
   ]
  },
  {
   "cell_type": "code",
   "execution_count": 18,
   "metadata": {},
   "outputs": [],
   "source": [
    "planets.FirstVisited=pd.to_datetime(planets.FirstVisited)"
   ]
  },
  {
   "cell_type": "code",
   "execution_count": 20,
   "metadata": {},
   "outputs": [
    {
     "data": {
      "text/plain": [
       "Planet\n",
       "MERCURY    1974.0\n",
       "VENUS      1962.0\n",
       "EARTH         NaN\n",
       "MOON       1959.0\n",
       "MARS       1965.0\n",
       "JUPITER    1973.0\n",
       "SATURN     1979.0\n",
       "URANUS     1986.0\n",
       "NEPTUNE    1989.0\n",
       "PLUTO      2015.0\n",
       "Name: FirstVisited, dtype: float64"
      ]
     },
     "execution_count": 20,
     "metadata": {},
     "output_type": "execute_result"
    }
   ],
   "source": [
    "#Filtering the datetime column using year \n",
    "planets.FirstVisited.dt.year"
   ]
  },
  {
   "cell_type": "code",
   "execution_count": null,
   "metadata": {},
   "outputs": [],
   "source": []
  }
 ],
 "metadata": {
  "kernelspec": {
   "display_name": "Python 3",
   "language": "python",
   "name": "python3"
  },
  "language_info": {
   "codemirror_mode": {
    "name": "ipython",
    "version": 3
   },
   "file_extension": ".py",
   "mimetype": "text/x-python",
   "name": "python",
   "nbconvert_exporter": "python",
   "pygments_lexer": "ipython3",
   "version": "3.7.3"
  },
  "toc": {
   "base_numbering": 1,
   "nav_menu": {},
   "number_sections": true,
   "sideBar": true,
   "skip_h1_title": false,
   "title_cell": "Table of Contents",
   "title_sidebar": "Contents",
   "toc_cell": false,
   "toc_position": {},
   "toc_section_display": true,
   "toc_window_display": false
  }
 },
 "nbformat": 4,
 "nbformat_minor": 2
}
